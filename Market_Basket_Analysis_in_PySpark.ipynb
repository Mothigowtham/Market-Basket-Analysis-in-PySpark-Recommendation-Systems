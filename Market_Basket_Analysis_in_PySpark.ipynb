{
  "nbformat": 4,
  "nbformat_minor": 0,
  "metadata": {
    "colab": {
      "provenance": []
    },
    "kernelspec": {
      "name": "python3",
      "display_name": "Python 3"
    },
    "language_info": {
      "name": "python"
    }
  },
  "cells": [
    {
      "cell_type": "code",
      "execution_count": null,
      "metadata": {
        "id": "VWglCAvLQsMB"
      },
      "outputs": [],
      "source": [
        "import os\n",
        "import pandas as pd\n",
        "import numpy as np\n",
        "import string\n",
        "\n",
        "\n",
        "import re\n",
        "import glob\n",
        "import matplotlib.pyplot as plt"
      ]
    },
    {
      "cell_type": "code",
      "source": [
        "!apt-get install openjdk-8-jdk-headless -qq > /dev/null\n",
        "!wget -q https://archive.apache.org/dist/spark/spark-3.2.0/spark-3.2.0-bin-hadoop3.2.tgz\n",
        "!tar xf spark-3.2.0-bin-hadoop3.2.tgz\n",
        "!pip install -q findspark"
      ],
      "metadata": {
        "id": "RjL6KfXWTao4"
      },
      "execution_count": null,
      "outputs": []
    },
    {
      "cell_type": "code",
      "source": [
        "os.environ[\"JAVA_HOME\"] = \"/usr/lib/jvm/java-8-openjdk-amd64\"\n",
        "os.environ[\"SPARK_HOME\"] = \"spark-3.2.0-bin-hadoop3.2\""
      ],
      "metadata": {
        "id": "aLaXczYQTarh"
      },
      "execution_count": null,
      "outputs": []
    },
    {
      "cell_type": "code",
      "source": [
        "import findspark\n",
        "findspark.init()"
      ],
      "metadata": {
        "id": "E0kWJbVOTauM"
      },
      "execution_count": null,
      "outputs": []
    },
    {
      "cell_type": "code",
      "source": [
        "from pyspark.sql import SparkSession\n",
        "spark = SparkSession.builder.master(\"local[*]\").getOrCreate()\n",
        "sc = spark.sparkContext\n",
        "sc"
      ],
      "metadata": {
        "colab": {
          "base_uri": "https://localhost:8080/",
          "height": 196
        },
        "id": "ptEJzCpJTaws",
        "outputId": "eb788f24-6950-4c2d-a069-d97ccfe41d53"
      },
      "execution_count": null,
      "outputs": [
        {
          "output_type": "execute_result",
          "data": {
            "text/plain": [
              "<SparkContext master=local[*] appName=pyspark-shell>"
            ],
            "text/html": [
              "\n",
              "        <div>\n",
              "            <p><b>SparkContext</b></p>\n",
              "\n",
              "            <p><a href=\"http://0a79955c1b12:4040\">Spark UI</a></p>\n",
              "\n",
              "            <dl>\n",
              "              <dt>Version</dt>\n",
              "                <dd><code>v3.2.0</code></dd>\n",
              "              <dt>Master</dt>\n",
              "                <dd><code>local[*]</code></dd>\n",
              "              <dt>AppName</dt>\n",
              "                <dd><code>pyspark-shell</code></dd>\n",
              "            </dl>\n",
              "        </div>\n",
              "        "
            ]
          },
          "metadata": {},
          "execution_count": 5
        }
      ]
    },
    {
      "cell_type": "code",
      "source": [
        "from google.colab import drive\n",
        "drive.mount('/content/drive')"
      ],
      "metadata": {
        "colab": {
          "base_uri": "https://localhost:8080/"
        },
        "id": "qlAD8zImTazM",
        "outputId": "65f7ebb0-7cdf-4b6a-aac7-f51748820b6b"
      },
      "execution_count": null,
      "outputs": [
        {
          "output_type": "stream",
          "name": "stdout",
          "text": [
            "Mounted at /content/drive\n"
          ]
        }
      ]
    },
    {
      "cell_type": "code",
      "source": [
        "# Import Data\n",
        "aisles = spark.read.csv(\"/content/drive/MyDrive/CC_Project/aisles.csv\", header=True, inferSchema=True)\n",
        "departments = spark.read.csv(\"/content/drive/MyDrive/CC_Project/departments.csv\", header=True, inferSchema=True)\n",
        "order_products_prior = spark.read.csv(\"/content/drive/MyDrive/CC_Project/order_products__prior.csv\", header=True, inferSchema=True)\n",
        "order_products_train = spark.read.csv(\"/content/drive/MyDrive/CC_Project/order_products__train.csv\", header=True, inferSchema=True)\n",
        "orders = spark.read.csv(\"/content/drive/MyDrive/CC_Project/orders.csv\", header=True, inferSchema=True)\n",
        "products = spark.read.csv(\"/content/drive/MyDrive/CC_Project/products.csv\", header=True, inferSchema=True)\n",
        "\n",
        "# Create Temporary Tables\n",
        "aisles.createOrReplaceTempView(\"aisles\")\n",
        "departments.createOrReplaceTempView(\"departments\")\n",
        "order_products_prior.createOrReplaceTempView(\"order_products_prior\")\n",
        "order_products_train.createOrReplaceTempView(\"order_products_train\")\n",
        "orders.createOrReplaceTempView(\"orders\")\n",
        "products.createOrReplaceTempView(\"products\")"
      ],
      "metadata": {
        "id": "27tSFbe9Ta2l"
      },
      "execution_count": null,
      "outputs": []
    },
    {
      "cell_type": "code",
      "source": [
        "aisles.show(100)"
      ],
      "metadata": {
        "colab": {
          "base_uri": "https://localhost:8080/"
        },
        "id": "n9vlkwgBWpB9",
        "outputId": "1bd3efc7-da08-46d5-cb6e-9e41ea691edc"
      },
      "execution_count": null,
      "outputs": [
        {
          "output_type": "stream",
          "name": "stdout",
          "text": [
            "+--------+--------------------+\n",
            "|aisle_id|               aisle|\n",
            "+--------+--------------------+\n",
            "|       1|prepared soups sa...|\n",
            "|       2|   specialty cheeses|\n",
            "|       3| energy granola bars|\n",
            "|       4|       instant foods|\n",
            "|       5|marinades meat pr...|\n",
            "|       6|               other|\n",
            "|       7|       packaged meat|\n",
            "|       8|     bakery desserts|\n",
            "|       9|         pasta sauce|\n",
            "|      10|    kitchen supplies|\n",
            "|      11|    cold flu allergy|\n",
            "|      12|         fresh pasta|\n",
            "|      13|      prepared meals|\n",
            "|      14|tofu meat alterna...|\n",
            "|      15|    packaged seafood|\n",
            "|      16|         fresh herbs|\n",
            "|      17|  baking ingredients|\n",
            "|      18|bulk dried fruits...|\n",
            "|      19|       oils vinegars|\n",
            "|      20|        oral hygiene|\n",
            "|      21|     packaged cheese|\n",
            "|      22|           hair care|\n",
            "|      23|       popcorn jerky|\n",
            "|      24|        fresh fruits|\n",
            "|      25|                soap|\n",
            "|      26|              coffee|\n",
            "|      27|       beers coolers|\n",
            "|      28|           red wines|\n",
            "|      29|honeys syrups nec...|\n",
            "|      30|        latino foods|\n",
            "|      31|        refrigerated|\n",
            "|      32|    packaged produce|\n",
            "|      33|        kosher foods|\n",
            "|      34| frozen meat seafood|\n",
            "|      35|     poultry counter|\n",
            "|      36|              butter|\n",
            "|      37|       ice cream ice|\n",
            "|      38|        frozen meals|\n",
            "|      39|     seafood counter|\n",
            "|      40|       dog food care|\n",
            "|      41|       cat food care|\n",
            "|      42|frozen vegan vege...|\n",
            "|      43|          buns rolls|\n",
            "|      44|        eye ear care|\n",
            "|      45|     candy chocolate|\n",
            "|      46|            mint gum|\n",
            "|      47|vitamins supplements|\n",
            "|      48|breakfast bars pa...|\n",
            "|      49|    packaged poultry|\n",
            "|      50|fruit vegetable s...|\n",
            "|      51|preserved dips sp...|\n",
            "|      52|    frozen breakfast|\n",
            "|      53|               cream|\n",
            "|      54|         paper goods|\n",
            "|      55|         shave needs|\n",
            "|      56|       diapers wipes|\n",
            "|      57|             granola|\n",
            "|      58|frozen breads doughs|\n",
            "|      59|  canned meals beans|\n",
            "|      60|   trash bags liners|\n",
            "|      61|       cookies cakes|\n",
            "|      62|         white wines|\n",
            "|      63|grains rice dried...|\n",
            "|      64|energy sports drinks|\n",
            "|      65|protein meal repl...|\n",
            "|      66|         asian foods|\n",
            "|      67|fresh dips tapenades|\n",
            "|      68|bulk grains rice ...|\n",
            "|      69| soup broth bouillon|\n",
            "|      70|           digestion|\n",
            "|      71|refrigerated pudd...|\n",
            "|      72|          condiments|\n",
            "|      73|         facial care|\n",
            "|      74|     dish detergents|\n",
            "|      75|             laundry|\n",
            "|      76|        indian foods|\n",
            "|      77|         soft drinks|\n",
            "|      78|            crackers|\n",
            "|      79|        frozen pizza|\n",
            "|      80|          deodorants|\n",
            "|      81|canned jarred veg...|\n",
            "|      82|    baby accessories|\n",
            "|      83|    fresh vegetables|\n",
            "|      84|                milk|\n",
            "|      85|        food storage|\n",
            "|      86|                eggs|\n",
            "|      87|      more household|\n",
            "|      88|             spreads|\n",
            "|      89|salad dressing to...|\n",
            "|      90|   cocoa drink mixes|\n",
            "|      91|     soy lactosefree|\n",
            "|      92|   baby food formula|\n",
            "|      93|    breakfast bakery|\n",
            "|      94|                 tea|\n",
            "|      95| canned meat seafood|\n",
            "|      96|          lunch meat|\n",
            "|      97|baking supplies d...|\n",
            "|      98|       juice nectars|\n",
            "|      99|canned fruit appl...|\n",
            "|     100|             missing|\n",
            "+--------+--------------------+\n",
            "only showing top 100 rows\n",
            "\n"
          ]
        }
      ]
    },
    {
      "cell_type": "code",
      "source": [
        "unique_aisles_count = spark.sql(\"SELECT COUNT(DISTINCT aisle) as unique_aisles_count FROM aisles\")\n",
        "\n",
        "# Show the result\n",
        "unique_aisles_count.show()"
      ],
      "metadata": {
        "colab": {
          "base_uri": "https://localhost:8080/"
        },
        "id": "O0R6V_ffZ2KL",
        "outputId": "f588d313-e1b7-41fa-b4b9-164bdcbe8b53"
      },
      "execution_count": null,
      "outputs": [
        {
          "output_type": "stream",
          "name": "stdout",
          "text": [
            "+-------------------+\n",
            "|unique_aisles_count|\n",
            "+-------------------+\n",
            "|                134|\n",
            "+-------------------+\n",
            "\n"
          ]
        }
      ]
    },
    {
      "cell_type": "code",
      "source": [
        "# Check for null values in the \"aisle\" column\n",
        "null_check = spark.sql(\"SELECT COUNT(*) as null_count FROM aisles WHERE aisle IS NULL\")\n",
        "\n",
        "# Show the result\n",
        "null_check.show()\n"
      ],
      "metadata": {
        "colab": {
          "base_uri": "https://localhost:8080/"
        },
        "id": "Kp6fU2dJaj8F",
        "outputId": "bf863ed8-3fc8-465b-e94c-7865e7a70034"
      },
      "execution_count": null,
      "outputs": [
        {
          "output_type": "stream",
          "name": "stdout",
          "text": [
            "+----------+\n",
            "|null_count|\n",
            "+----------+\n",
            "|         0|\n",
            "+----------+\n",
            "\n"
          ]
        }
      ]
    },
    {
      "cell_type": "code",
      "source": [
        "departments.show(50)"
      ],
      "metadata": {
        "colab": {
          "base_uri": "https://localhost:8080/"
        },
        "id": "yOsj4vHcWtso",
        "outputId": "2fdcfae3-483c-4076-ff3d-6bf1a17b9c7e"
      },
      "execution_count": null,
      "outputs": [
        {
          "output_type": "stream",
          "name": "stdout",
          "text": [
            "+-------------+---------------+\n",
            "|department_id|     department|\n",
            "+-------------+---------------+\n",
            "|            1|         frozen|\n",
            "|            2|          other|\n",
            "|            3|         bakery|\n",
            "|            4|        produce|\n",
            "|            5|        alcohol|\n",
            "|            6|  international|\n",
            "|            7|      beverages|\n",
            "|            8|           pets|\n",
            "|            9|dry goods pasta|\n",
            "|           10|           bulk|\n",
            "|           11|  personal care|\n",
            "|           12|   meat seafood|\n",
            "|           13|         pantry|\n",
            "|           14|      breakfast|\n",
            "|           15|   canned goods|\n",
            "|           16|     dairy eggs|\n",
            "|           17|      household|\n",
            "|           18|         babies|\n",
            "|           19|         snacks|\n",
            "|           20|           deli|\n",
            "|           21|        missing|\n",
            "+-------------+---------------+\n",
            "\n"
          ]
        }
      ]
    },
    {
      "cell_type": "code",
      "source": [
        "unique_departments = spark.sql(\"SELECT DISTINCT department FROM departments\")\n",
        "unique_departments.show()"
      ],
      "metadata": {
        "colab": {
          "base_uri": "https://localhost:8080/"
        },
        "id": "e-N4fsKjbHzk",
        "outputId": "639e766a-2d86-4cc8-d4a6-4bb0240c3b4b"
      },
      "execution_count": null,
      "outputs": [
        {
          "output_type": "stream",
          "name": "stdout",
          "text": [
            "+---------------+\n",
            "|     department|\n",
            "+---------------+\n",
            "|      beverages|\n",
            "|   meat seafood|\n",
            "|         frozen|\n",
            "|           deli|\n",
            "|dry goods pasta|\n",
            "|           bulk|\n",
            "|          other|\n",
            "|         babies|\n",
            "|         bakery|\n",
            "|        produce|\n",
            "|         pantry|\n",
            "|     dairy eggs|\n",
            "|   canned goods|\n",
            "|  personal care|\n",
            "|      breakfast|\n",
            "|        missing|\n",
            "|           pets|\n",
            "|      household|\n",
            "|        alcohol|\n",
            "|  international|\n",
            "+---------------+\n",
            "only showing top 20 rows\n",
            "\n"
          ]
        }
      ]
    },
    {
      "cell_type": "code",
      "source": [
        "order_products_prior.show()"
      ],
      "metadata": {
        "colab": {
          "base_uri": "https://localhost:8080/"
        },
        "id": "-RMz_K1GW3hG",
        "outputId": "43374818-e1e3-4761-8a15-7f78f43f60c0"
      },
      "execution_count": null,
      "outputs": [
        {
          "output_type": "stream",
          "name": "stdout",
          "text": [
            "+--------+----------+-----------------+---------+\n",
            "|order_id|product_id|add_to_cart_order|reordered|\n",
            "+--------+----------+-----------------+---------+\n",
            "|       2|     33120|                1|        1|\n",
            "|       2|     28985|                2|        1|\n",
            "|       2|      9327|                3|        0|\n",
            "|       2|     45918|                4|        1|\n",
            "|       2|     30035|                5|        0|\n",
            "|       2|     17794|                6|        1|\n",
            "|       2|     40141|                7|        1|\n",
            "|       2|      1819|                8|        1|\n",
            "|       2|     43668|                9|        0|\n",
            "|       3|     33754|                1|        1|\n",
            "|       3|     24838|                2|        1|\n",
            "|       3|     17704|                3|        1|\n",
            "|       3|     21903|                4|        1|\n",
            "|       3|     17668|                5|        1|\n",
            "|       3|     46667|                6|        1|\n",
            "|       3|     17461|                7|        1|\n",
            "|       3|     32665|                8|        1|\n",
            "|       4|     46842|                1|        0|\n",
            "|       4|     26434|                2|        1|\n",
            "|       4|     39758|                3|        1|\n",
            "+--------+----------+-----------------+---------+\n",
            "only showing top 20 rows\n",
            "\n"
          ]
        }
      ]
    },
    {
      "cell_type": "code",
      "source": [
        "order_products_train.show()"
      ],
      "metadata": {
        "colab": {
          "base_uri": "https://localhost:8080/"
        },
        "id": "NwH-HPoEX4Yz",
        "outputId": "43cc6620-f4cb-4683-be94-84ef3acb5a33"
      },
      "execution_count": null,
      "outputs": [
        {
          "output_type": "stream",
          "name": "stdout",
          "text": [
            "+--------+----------+-----------------+---------+\n",
            "|order_id|product_id|add_to_cart_order|reordered|\n",
            "+--------+----------+-----------------+---------+\n",
            "|       1|     49302|                1|        1|\n",
            "|       1|     11109|                2|        1|\n",
            "|       1|     10246|                3|        0|\n",
            "|       1|     49683|                4|        0|\n",
            "|       1|     43633|                5|        1|\n",
            "|       1|     13176|                6|        0|\n",
            "|       1|     47209|                7|        0|\n",
            "|       1|     22035|                8|        1|\n",
            "|      36|     39612|                1|        0|\n",
            "|      36|     19660|                2|        1|\n",
            "|      36|     49235|                3|        0|\n",
            "|      36|     43086|                4|        1|\n",
            "|      36|     46620|                5|        1|\n",
            "|      36|     34497|                6|        1|\n",
            "|      36|     48679|                7|        1|\n",
            "|      36|     46979|                8|        1|\n",
            "|      38|     11913|                1|        0|\n",
            "|      38|     18159|                2|        0|\n",
            "|      38|      4461|                3|        0|\n",
            "|      38|     21616|                4|        1|\n",
            "+--------+----------+-----------------+---------+\n",
            "only showing top 20 rows\n",
            "\n"
          ]
        }
      ]
    },
    {
      "cell_type": "code",
      "source": [
        "orders.show()"
      ],
      "metadata": {
        "colab": {
          "base_uri": "https://localhost:8080/"
        },
        "id": "eVgFGjoJY1l9",
        "outputId": "5eb6ddcb-a384-4f3c-9542-563710a98295"
      },
      "execution_count": null,
      "outputs": [
        {
          "output_type": "stream",
          "name": "stdout",
          "text": [
            "+--------+-------+--------+------------+---------+-----------------+----------------------+\n",
            "|order_id|user_id|eval_set|order_number|order_dow|order_hour_of_day|days_since_prior_order|\n",
            "+--------+-------+--------+------------+---------+-----------------+----------------------+\n",
            "| 2539329|      1|   prior|           1|        2|                8|                  null|\n",
            "| 2398795|      1|   prior|           2|        3|                7|                  15.0|\n",
            "|  473747|      1|   prior|           3|        3|               12|                  21.0|\n",
            "| 2254736|      1|   prior|           4|        4|                7|                  29.0|\n",
            "|  431534|      1|   prior|           5|        4|               15|                  28.0|\n",
            "| 3367565|      1|   prior|           6|        2|                7|                  19.0|\n",
            "|  550135|      1|   prior|           7|        1|                9|                  20.0|\n",
            "| 3108588|      1|   prior|           8|        1|               14|                  14.0|\n",
            "| 2295261|      1|   prior|           9|        1|               16|                   0.0|\n",
            "| 2550362|      1|   prior|          10|        4|                8|                  30.0|\n",
            "| 1187899|      1|   train|          11|        4|                8|                  14.0|\n",
            "| 2168274|      2|   prior|           1|        2|               11|                  null|\n",
            "| 1501582|      2|   prior|           2|        5|               10|                  10.0|\n",
            "| 1901567|      2|   prior|           3|        1|               10|                   3.0|\n",
            "|  738281|      2|   prior|           4|        2|               10|                   8.0|\n",
            "| 1673511|      2|   prior|           5|        3|               11|                   8.0|\n",
            "| 1199898|      2|   prior|           6|        2|                9|                  13.0|\n",
            "| 3194192|      2|   prior|           7|        2|               12|                  14.0|\n",
            "|  788338|      2|   prior|           8|        1|               15|                  27.0|\n",
            "| 1718559|      2|   prior|           9|        2|                9|                   8.0|\n",
            "+--------+-------+--------+------------+---------+-----------------+----------------------+\n",
            "only showing top 20 rows\n",
            "\n"
          ]
        }
      ]
    },
    {
      "cell_type": "code",
      "source": [
        "products.show()"
      ],
      "metadata": {
        "colab": {
          "base_uri": "https://localhost:8080/"
        },
        "id": "fKGnR0R0Y-vG",
        "outputId": "169a37ae-9000-4776-f3d6-96b880591051"
      },
      "execution_count": null,
      "outputs": [
        {
          "output_type": "stream",
          "name": "stdout",
          "text": [
            "+----------+--------------------+--------+-------------+\n",
            "|product_id|        product_name|aisle_id|department_id|\n",
            "+----------+--------------------+--------+-------------+\n",
            "|         1|Chocolate Sandwic...|      61|           19|\n",
            "|         2|    All-Seasons Salt|     104|           13|\n",
            "|         3|Robust Golden Uns...|      94|            7|\n",
            "|         4|Smart Ones Classi...|      38|            1|\n",
            "|         5|Green Chile Anyti...|       5|           13|\n",
            "|         6|        Dry Nose Oil|      11|           11|\n",
            "|         7|Pure Coconut Wate...|      98|            7|\n",
            "|         8|Cut Russet Potato...|     116|            1|\n",
            "|         9|Light Strawberry ...|     120|           16|\n",
            "|        10|Sparkling Orange ...|     115|            7|\n",
            "|        11|   Peach Mango Juice|      31|            7|\n",
            "|        12|Chocolate Fudge L...|     119|            1|\n",
            "|        13|   Saline Nasal Mist|      11|           11|\n",
            "|        14|Fresh Scent Dishw...|      74|           17|\n",
            "|        15|Overnight Diapers...|      56|           18|\n",
            "|        16|Mint Chocolate Fl...|     103|           19|\n",
            "|        17|   Rendered Duck Fat|      35|           12|\n",
            "|        18|Pizza for One Sup...|      79|            1|\n",
            "|        19|Gluten Free Quino...|      63|            9|\n",
            "|        20|Pomegranate Cranb...|      98|            7|\n",
            "+----------+--------------------+--------+-------------+\n",
            "only showing top 20 rows\n",
            "\n"
          ]
        }
      ]
    },
    {
      "cell_type": "code",
      "source": [
        "unique_department_count = spark.sql(\"SELECT COUNT(DISTINCT department) as unique_count FROM departments\")"
      ],
      "metadata": {
        "id": "xNA2UX5SZIp-"
      },
      "execution_count": null,
      "outputs": []
    },
    {
      "cell_type": "code",
      "source": [
        "query = \"\"\"\n",
        "SELECT\n",
        "  COUNT(order_id) AS total_orders,\n",
        "  CASE\n",
        "    WHEN order_dow = 0 THEN 'Sunday'\n",
        "    WHEN order_dow = 1 THEN 'Monday'\n",
        "    WHEN order_dow = 2 THEN 'Tuesday'\n",
        "    WHEN order_dow = 3 THEN 'Wednesday'\n",
        "    WHEN order_dow = 4 THEN 'Thursday'\n",
        "    WHEN order_dow = 5 THEN 'Friday'\n",
        "    WHEN order_dow = 6 THEN 'Saturday'\n",
        "  END AS day_of_week\n",
        "FROM orders\n",
        "GROUP BY order_dow\n",
        "ORDER BY total_orders DESC\n",
        "\"\"\"\n",
        "\n",
        "result = spark.sql(query)\n",
        "result.show()\n"
      ],
      "metadata": {
        "id": "IDuBsbwydm5y",
        "colab": {
          "base_uri": "https://localhost:8080/"
        },
        "outputId": "da405807-db2b-43a8-9ed7-6a7fdac0c5b5"
      },
      "execution_count": null,
      "outputs": [
        {
          "output_type": "stream",
          "name": "stdout",
          "text": [
            "+------------+-----------+\n",
            "|total_orders|day_of_week|\n",
            "+------------+-----------+\n",
            "|      600905|     Sunday|\n",
            "|      587478|     Monday|\n",
            "|      467260|    Tuesday|\n",
            "|      453368|     Friday|\n",
            "|      448761|   Saturday|\n",
            "|      436972|  Wednesday|\n",
            "|      426339|   Thursday|\n",
            "+------------+-----------+\n",
            "\n"
          ]
        }
      ]
    },
    {
      "cell_type": "code",
      "source": [
        "result_pandas = result.toPandas()\n",
        "\n",
        "# Create a bar chart with different colors\n",
        "plt.figure(figsize=(10, 6))\n",
        "colors = ['#000080', 'orange', 'green', 'red', '#8000FF', 'brown', '#FF1493']\n",
        "plt.bar(result_pandas['day_of_week'], result_pandas['total_orders'], color=colors)\n",
        "plt.xlabel('Day of Week')\n",
        "plt.ylabel('Total Orders')\n",
        "plt.title('Total Orders by Day of Week')\n",
        "plt.xticks(rotation=45)\n",
        "plt.show()"
      ],
      "metadata": {
        "colab": {
          "base_uri": "https://localhost:8080/",
          "height": 617
        },
        "id": "P7NrtCIXucqQ",
        "outputId": "fe86c7a7-10a2-4b29-d7e7-346077832912"
      },
      "execution_count": null,
      "outputs": [
        {
          "output_type": "display_data",
          "data": {
            "text/plain": [
              "<Figure size 1000x600 with 1 Axes>"
            ],
            "image/png": "[encoded data removed]"
          },
          "metadata": {}
        }
      ]
    },
    {
      "cell_type": "code",
      "source": [
        "query = \"\"\"\n",
        "select\n",
        "  count(order_id) as total_orders,\n",
        "  order_hour_of_day as hour\n",
        "  from orders\n",
        " group by order_hour_of_day\n",
        " order by order_hour_of_day\n",
        "\"\"\"\n",
        "\n",
        "result = spark.sql(query)\n",
        "result.show()"
      ],
      "metadata": {
        "colab": {
          "base_uri": "https://localhost:8080/"
        },
        "id": "XGvHZwqNyFAK",
        "outputId": "9f882b58-4d8a-4ed1-bcae-b86144f70ad8"
      },
      "execution_count": null,
      "outputs": [
        {
          "output_type": "stream",
          "name": "stdout",
          "text": [
            "+------------+----+\n",
            "|total_orders|hour|\n",
            "+------------+----+\n",
            "|       22758|   0|\n",
            "|       12398|   1|\n",
            "|        7539|   2|\n",
            "|        5474|   3|\n",
            "|        5527|   4|\n",
            "|        9569|   5|\n",
            "|       30529|   6|\n",
            "|       91868|   7|\n",
            "|      178201|   8|\n",
            "|      257812|   9|\n",
            "|      288418|  10|\n",
            "|      284728|  11|\n",
            "|      272841|  12|\n",
            "|      277999|  13|\n",
            "|      283042|  14|\n",
            "|      283639|  15|\n",
            "|      272553|  16|\n",
            "|      228795|  17|\n",
            "|      182912|  18|\n",
            "|      140569|  19|\n",
            "+------------+----+\n",
            "only showing top 20 rows\n",
            "\n"
          ]
        }
      ]
    },
    {
      "cell_type": "code",
      "source": [
        "result_pandas = result.toPandas()\n",
        "plt.figure(figsize=(12, 6))\n",
        "plt.plot(result_pandas['hour'], result_pandas['total_orders'], marker='o')\n",
        "plt.title('Total Orders by Hour of Day')\n",
        "plt.xlabel('Hour of Day')\n",
        "plt.ylabel('Total Orders')\n",
        "plt.grid(True)\n",
        "plt.xticks(range(0, 24))  # Assuming hours are from 0 to 23\n",
        "plt.show()"
      ],
      "metadata": {
        "colab": {
          "base_uri": "https://localhost:8080/",
          "height": 564
        },
        "id": "oFuk7-E_znz2",
        "outputId": "29bdba56-5616-418d-96c7-955dd608c917"
      },
      "execution_count": null,
      "outputs": [
        {
          "output_type": "display_data",
          "data": {
            "text/plain": [
              "<Figure size 1200x600 with 1 Axes>"
            ],
            "image/png": "[encoded data removed]"
          },
          "metadata": {}
        }
      ]
    },
    {
      "cell_type": "code",
      "source": [
        "query = \"\"\"\n",
        "select d.department, count(distinct p.product_id) as products\n",
        "  from products p\n",
        "    inner join departments d\n",
        "      on d.department_id = p.department_id\n",
        " group by d.department\n",
        " order by products desc\n",
        " limit 10\n",
        "\"\"\"\n",
        "\n",
        "result = spark.sql(query)\n",
        "result.show()"
      ],
      "metadata": {
        "colab": {
          "base_uri": "https://localhost:8080/"
        },
        "id": "LK8zbVTL2YrB",
        "outputId": "07bed94b-b6da-44ac-fd9a-c0fd8f9edd13"
      },
      "execution_count": null,
      "outputs": [
        {
          "output_type": "stream",
          "name": "stdout",
          "text": [
            "+---------------+--------+\n",
            "|     department|products|\n",
            "+---------------+--------+\n",
            "|  personal care|    6563|\n",
            "|         snacks|    6264|\n",
            "|         pantry|    5371|\n",
            "|      beverages|    4365|\n",
            "|         frozen|    4007|\n",
            "|     dairy eggs|    3449|\n",
            "|      household|    3084|\n",
            "|   canned goods|    2092|\n",
            "|dry goods pasta|    1858|\n",
            "|        produce|    1684|\n",
            "+---------------+--------+\n",
            "\n"
          ]
        }
      ]
    },
    {
      "cell_type": "code",
      "source": [
        "result_pandas = result.toPandas()\n",
        "# Data for plotting\n",
        "departments = result_pandas['department']\n",
        "products = result_pandas['products']\n",
        "colors = plt.cm.Paired(range(len(departments)))  # Generate distinct colors\n",
        "\n",
        "# Create pie chart\n",
        "plt.figure(figsize=(10, 7))\n",
        "wedges, texts, autotexts = plt.pie(products, labels=departments, colors=colors, autopct='%1.0f%%', startangle=140, pctdistance=0.85)\n",
        "\n",
        "# Convert to donut chart\n",
        "centre_circle = plt.Circle((0,0),0.40,fc='white')\n",
        "fig = plt.gcf()\n",
        "fig.gca().add_artist(centre_circle)\n",
        "\n",
        "# Equal aspect ratio ensures that pie is drawn as a circle\n",
        "plt.axis('equal')\n",
        "plt.tight_layout()\n",
        "\n",
        "# Add title\n",
        "plt.title(\"Percent of Products by Department\\n\")\n",
        "\n",
        "# Update autotexts to show only two decimals\n",
        "for autotext in autotexts:\n",
        "    autotext.set_color('black')\n",
        "\n",
        "plt.show()"
      ],
      "metadata": {
        "colab": {
          "base_uri": "https://localhost:8080/",
          "height": 746
        },
        "id": "9cIqJoRF36ri",
        "outputId": "9ed5b831-fea4-49a4-d1ec-8b59600b9711"
      },
      "execution_count": null,
      "outputs": [
        {
          "output_type": "display_data",
          "data": {
            "text/plain": [
              "<Figure size 1000x700 with 1 Axes>"
            ],
            "image/png": "[encoded data removed]"
          },
          "metadata": {}
        }
      ]
    },
    {
      "cell_type": "code",
      "source": [],
      "metadata": {
        "id": "keY3ELriDpUt"
      },
      "execution_count": null,
      "outputs": []
    },
    {
      "cell_type": "code",
      "source": [],
      "metadata": {
        "id": "JXxG8VAuDpbW"
      },
      "execution_count": null,
      "outputs": []
    },
    {
      "cell_type": "code",
      "source": [],
      "metadata": {
        "id": "Lj6Fu18IDped"
      },
      "execution_count": null,
      "outputs": []
    },
    {
      "cell_type": "markdown",
      "source": [
        "## Organize Shopping Basket"
      ],
      "metadata": {
        "id": "VUa2ntrH7v1P"
      }
    },
    {
      "cell_type": "markdown",
      "source": [
        "To prepare our data for downstream processing, we will organize our data by shopping basket. That is, each row of our DataFrame represents an order_id with each items column containing an array of items."
      ],
      "metadata": {
        "id": "zY5j19-37ycG"
      }
    },
    {
      "cell_type": "code",
      "source": [
        "# Organize the data by shopping basket\n",
        "from pyspark.sql.functions import collect_set, col, count\n",
        "rawData = spark.sql(\"select p.product_name, o.order_id from products p inner join order_products_train o where o.product_id = p.product_id\")\n",
        "baskets = rawData.groupBy('order_id').agg(collect_set('product_name').alias('items'))\n",
        "baskets.createOrReplaceTempView('baskets')"
      ],
      "metadata": {
        "id": "h6tHD1bB2Yxw"
      },
      "execution_count": null,
      "outputs": []
    },
    {
      "cell_type": "code",
      "source": [
        "baskets.show(20, truncate=False)"
      ],
      "metadata": {
        "colab": {
          "base_uri": "https://localhost:8080/"
        },
        "id": "1RjFq3R573bK",
        "outputId": "5023a37d-b21e-4a1c-b12d-e4386699dc97"
      },
      "execution_count": null,
      "outputs": [
        {
          "output_type": "stream",
          "name": "stdout",
          "text": [
            "+--------+-----------------------------------------------------------------------------------------------------------------------------------------------------------------------------------------------------------------------------------------------------------------------------------------------------------------------------------------------------------------------------------------------------------------------------------------------------------------------------------------------------------------------------------------------------------------------------------------------------------------------------------------------------------------------------------------------------------------------------------------------------------------------------------------------------------------------------------------------------------------------------------------------------------------------------------------------------+\n",
            "|order_id|items                                                                                                                                                                                                                                                                                                                                                                                                                                                                                                                                                                                                                                                                                                                                                                                                                                                                                                                                                |\n",
            "+--------+-----------------------------------------------------------------------------------------------------------------------------------------------------------------------------------------------------------------------------------------------------------------------------------------------------------------------------------------------------------------------------------------------------------------------------------------------------------------------------------------------------------------------------------------------------------------------------------------------------------------------------------------------------------------------------------------------------------------------------------------------------------------------------------------------------------------------------------------------------------------------------------------------------------------------------------------------------+\n",
            "|1       |[Bag of Organic Bananas, Cucumber Kirby, Lightly Smoked Sardines in Olive Oil, Organic 4% Milk Fat Whole Milk Cottage Cheese, Organic Whole String Cheese, Organic Celery Hearts, Organic Hass Avocado, Bulgarian Yogurt]                                                                                                                                                                                                                                                                                                                                                                                                                                                                                                                                                                                                                                                                                                                            |\n",
            "|96      |[Roasted Turkey, Organic Cucumber, Organic Raspberries, Organic Whole Strawberries, Organic Grape Tomatoes, Organic Pomegranate Kernels, Organic Blueberries]                                                                                                                                                                                                                                                                                                                                                                                                                                                                                                                                                                                                                                                                                                                                                                                        |\n",
            "|112     |[Umcka Elderberry Intensive Cold + Flu Berry Flavor, Fresh Cauliflower, I Heart Baby Kale, Hickory Honey Barbeque Baked Potato Chips, Sea Salt Baked Potato Chips, Premium Epsom Salt, Baked Sea Salt & Vinegar Potato Chips, Organic Hass Avocado, Organic Lemon, Marinara Pasta Sauce, Coconut Water Kefir]                                                                                                                                                                                                                                                                                                                                                                                                                                                                                                                                                                                                                                        |\n",
            "|218     |[Okra, Black Plum, Citrus Mandarins Organic, Organic Yellow Peaches, Natural Artisan Water]                                                                                                                                                                                                                                                                                                                                                                                                                                                                                                                                                                                                                                                                                                                                                                                                                                                          |\n",
            "|456     |[Petite Peas, Large Lemon, Pure Ground, Max Gel Clog Remover, Green Beans, Extra Virgin Olive Oil, Mediterranean Fine Sea Salt, Naturally Hickory Smoked Hometown Original Bacon, Chorizo Pork]                                                                                                                                                                                                                                                                                                                                                                                                                                                                                                                                                                                                                                                                                                                                                      |\n",
            "|473     |[Organic Whole Milk with DHA Omega-3, Basil Pesto, Multi Grain Waffles, Baby Wipes, Mushroom Ravioli, Banana, Unsweetened Original Almond Breeze Almond Milk, Spinaci e Ricotta Ravioli]                                                                                                                                                                                                                                                                                                                                                                                                                                                                                                                                                                                                                                                                                                                                                             |\n",
            "|631     |[Organic Cilantro, Organic Red Radish, Bunch, Garlic, Organic Chili Powder Blend, Mild Salsa, Dairy Free Coconut Milk Raspberry Yogurt Alternative, Tamari Gluten Free Soy Sauce, Broccoli Crown, Gluten Free Organic Taco Sliders Corn Tortillas, Dairy Free Coconut Milk Yogurt Alternative, French Vanilla Coconut Milk Creamer, Organic Italian Parsley Bunch, Organic Strawberries, Organic Baby Carrots, Organic Asian Chopped Salad Kit, Uncured Genoa Salami, Vanilla Almond Milk]                                                                                                                                                                                                                                                                                                                                                                                                                                                           |\n",
            "|762     |[Organic Cucumber, Organic Romaine Lettuce, Celery Hearts, Organic Strawberries]                                                                                                                                                                                                                                                                                                                                                                                                                                                                                                                                                                                                                                                                                                                                                                                                                                                                     |\n",
            "|774     |[Nacho Cheese Sauce, Deli-Sliced Hot Jalapeño Peppers, Ice Cream Variety Pack]                                                                                                                                                                                                                                                                                                                                                                                                                                                                                                                                                                                                                                                                                                                                                                                                                                                                       |\n",
            "|844     |[Organic Red Radish, Bunch, Baby Spinach, Organic Shredded Carrots, Granny Smith Apples, Green Beans, Cheese Pizza Snacks, Garlic Couscous]                                                                                                                                                                                                                                                                                                                                                                                                                                                                                                                                                                                                                                                                                                                                                                                                          |\n",
            "|904     |[Zero Calorie Cola, Cup Noodles Chicken Flavor]                                                                                                                                                                                                                                                                                                                                                                                                                                                                                                                                                                                                                                                                                                                                                                                                                                                                                                      |\n",
            "|988     |[Whipped Light Cream, Original, Complete ActionPacs Lemon Burst Dishwasher Detergent, Classic Vanilla Coffee Creamer, Natural Vanilla Ice Cream]                                                                                                                                                                                                                                                                                                                                                                                                                                                                                                                                                                                                                                                                                                                                                                                                     |\n",
            "|1032    |[Organic Living Butter Lettuce, Organic Bartlett Pear, Goodness Grapeness Organic Juice Drink, Organic Raspberries, Water New Zealand, Apple Honeycrisp Organic, Unsweetened Honeydew Essence Water, Taco Seasoning, Garlic & Herb Rice Pilaf Mix, Cheese Pizza, Pineapple Apple Mint Organic Cold Pressed Juicd, Amaaazing Blueberry Apple Juice Blend Drink, Small Hass Avocado, Clover Org Greek Plain, Xylitol Sweetener, Le Petite Fromage Parmesan & Basil, Electrolyte Enhanced Water, Original Long Grain & Wild Rice Mix, Natural Spring Water, Water, Unsweet, Blood Orange, New Zealand Artesian Water, Organic Large Extra Fancy Fuji Apple, Dolmas, Wild Berry Sparkling Energy Water, Organic Small Bunch Celery]                                                                                                                                                                                                                      |\n",
            "|1077    |[Sparkling Water, Organic Strawberries, Celery Sticks, Bag of Organic Bananas]                                                                                                                                                                                                                                                                                                                                                                                                                                                                                                                                                                                                                                                                                                                                                                                                                                                                       |\n",
            "|1119    |[Shallot, Large Lemon, Fresh Cauliflower, Boneless Skinless Chicken Breast, Organic Grade A Free Range Large Brown Eggs, Broccoli Crown]                                                                                                                                                                                                                                                                                                                                                                                                                                                                                                                                                                                                                                                                                                                                                                                                             |\n",
            "|1139    |[Cinnamon Rolls with Icing, Red Vine Tomato, Picnic Potato Salad, Flaky Biscuits, Organic Strawberries, Organic Bakery Hamburger Buns Wheat - 8 CT, Buttermilk Biscuits, Banana, Guacamole]                                                                                                                                                                                                                                                                                                                                                                                                                                                                                                                                                                                                                                                                                                                                                          |\n",
            "|1143    |[Water, Natural Premium Coconut Water, Organic Red Radish, Bunch, Organic Capellini Whole Wheat Pasta, Organic Raspberries, Calming Lavender Body Wash, Organic Garlic, Rustic Baguette, Organic Brussel Sprouts, Organic Butterhead (Boston, Butter, Bibb) Lettuce, Organic Blueberries, Spring Water, Large Lemon, Basil Pesto, Baby Arugula, Organic Hass Avocado, Unscented Long Lasting Stick Deodorant]                                                                                                                                                                                                                                                                                                                                                                                                                                                                                                                                        |\n",
            "|1145    |[Mexican Casserole Bowl, Light Mozzarella String Cheese, 2% Low Fat Cottage Cheese, Instant Whole Grain Brown Rice, Classic Stir-fry Sauce, Nacho Cheese & Bean Snacks, Everything Bagel, Spaghetti Pasta, Banana, Original Red Raspberry Yogurt, Milano Milk Chocolate Cookies, Natural Uncured Turkey Hot Dog, Stir Fry Seasoning Mix, Shredded Mild Cheddar Cheese, Little Bites Blueberry Muffin Pouches, Strawberries, Danimals Strawberry Explosion & Strikin' Strawberry Kiwi Smoothies, Spinach Pizza, Roma Tomato, Hash Brown Potato Patties, Harvest Cheddar Multigrain Chips, Harvest Best in 100% Fruit Juice Mandarin Oranges, Original French Toast Sticks, Multi Grain Cheerios Cereal, Signature Recipes Vodka Sauce Pasta Sauce, Eggs, Cheese & Turkey Sausage Breakfast Burrito, Healthy Multi Grain Bread, Goldfish Parmesan Baked Snack Crackers, Strawberry Frozen Greek Yogurt Bars, Original Nooks & Crannies English Muffins]|\n",
            "|1275    |[Small Hass Avocado, Organic Garnet Sweet Potato (Yam), Boneless Skinless Chicken Breast, Extra Virgin Olive Oil, Balsamic Vinegar Of Modena]                                                                                                                                                                                                                                                                                                                                                                                                                                                                                                                                                                                                                                                                                                                                                                                                        |\n",
            "|1280    |[Vanilla Soy Milk, French Vanilla Creamer, Organic Half & Half, Lactose Free Half & Half, Organic Whole Milk]                                                                                                                                                                                                                                                                                                                                                                                                                                                                                                                                                                                                                                                                                                                                                                                                                                        |\n",
            "+--------+-----------------------------------------------------------------------------------------------------------------------------------------------------------------------------------------------------------------------------------------------------------------------------------------------------------------------------------------------------------------------------------------------------------------------------------------------------------------------------------------------------------------------------------------------------------------------------------------------------------------------------------------------------------------------------------------------------------------------------------------------------------------------------------------------------------------------------------------------------------------------------------------------------------------------------------------------------+\n",
            "only showing top 20 rows\n",
            "\n"
          ]
        }
      ]
    },
    {
      "cell_type": "code",
      "source": [
        "from pyspark.ml.fpm import FPGrowth"
      ],
      "metadata": {
        "id": "eMeByMwL82zN"
      },
      "execution_count": null,
      "outputs": []
    },
    {
      "cell_type": "code",
      "source": [
        "# Extract out the items\n",
        "baskets_df = spark.sql(\"SELECT items FROM baskets\")\n",
        "\n",
        "# Convert the DataFrame column to the appropriate format\n",
        "# Assuming `items` is an array of strings as per your code\n",
        "baskets_ds = baskets_df.select(\"items\")"
      ],
      "metadata": {
        "id": "nqzljDD39BQm"
      },
      "execution_count": null,
      "outputs": []
    },
    {
      "cell_type": "markdown",
      "source": [
        "### FPGrowth Algorithm"
      ],
      "metadata": {
        "id": "KvnryxcV_SGX"
      }
    },
    {
      "cell_type": "code",
      "source": [
        "# Use FPGrowth Algorithm\n",
        "fpgrowth = FPGrowth(itemsCol=\"items\", minSupport=0.001, minConfidence=0)\n",
        "model = fpgrowth.fit(baskets_ds)"
      ],
      "metadata": {
        "id": "jbZqlc7V9Ohw"
      },
      "execution_count": null,
      "outputs": []
    },
    {
      "cell_type": "code",
      "source": [
        "# Calculate frequent itemsets\n",
        "mostPopularItemInABasket = model.freqItemsets\n",
        "mostPopularItemInABasket.createOrReplaceTempView(\"mostPopularItemInABasket\")"
      ],
      "metadata": {
        "colab": {
          "base_uri": "https://localhost:8080/"
        },
        "id": "ozRLSAE99WtJ",
        "outputId": "4843ed5a-5c08-4a9f-ad54-6a7d2f2d7b2c"
      },
      "execution_count": null,
      "outputs": [
        {
          "output_type": "stream",
          "name": "stderr",
          "text": [
            "/content/spark-3.2.0-bin-hadoop3.2/python/pyspark/sql/context.py:125: FutureWarning: Deprecated in 3.0.0. Use SparkSession.builder.getOrCreate() instead.\n",
            "  warnings.warn(\n"
          ]
        }
      ]
    },
    {
      "cell_type": "code",
      "source": [
        "query = \"\"\"\n",
        "select items, freq from mostPopularItemInABasket where size(items) > 2 order by freq desc limit 20\n",
        "\"\"\"\n",
        "\n",
        "result = spark.sql(query)\n",
        "result.show(20, truncate=False, vertical=True)"
      ],
      "metadata": {
        "colab": {
          "base_uri": "https://localhost:8080/"
        },
        "id": "fRAkimp49epq",
        "outputId": "36c1f484-4f04-4278-d8c7-7cafa39ab935"
      },
      "execution_count": null,
      "outputs": [
        {
          "output_type": "stream",
          "name": "stdout",
          "text": [
            "-RECORD 0---------------------------------------------------------------------\n",
            " items | [Organic Hass Avocado, Organic Strawberries, Bag of Organic Bananas] \n",
            " freq  | 710                                                                  \n",
            "-RECORD 1---------------------------------------------------------------------\n",
            " items | [Organic Raspberries, Organic Strawberries, Bag of Organic Bananas]  \n",
            " freq  | 649                                                                  \n",
            "-RECORD 2---------------------------------------------------------------------\n",
            " items | [Organic Baby Spinach, Organic Strawberries, Bag of Organic Bananas] \n",
            " freq  | 587                                                                  \n",
            "-RECORD 3---------------------------------------------------------------------\n",
            " items | [Organic Raspberries, Organic Hass Avocado, Bag of Organic Bananas]  \n",
            " freq  | 531                                                                  \n",
            "-RECORD 4---------------------------------------------------------------------\n",
            " items | [Organic Hass Avocado, Organic Baby Spinach, Bag of Organic Bananas] \n",
            " freq  | 497                                                                  \n",
            "-RECORD 5---------------------------------------------------------------------\n",
            " items | [Organic Avocado, Organic Baby Spinach, Banana]                      \n",
            " freq  | 484                                                                  \n",
            "-RECORD 6---------------------------------------------------------------------\n",
            " items | [Organic Avocado, Large Lemon, Banana]                               \n",
            " freq  | 477                                                                  \n",
            "-RECORD 7---------------------------------------------------------------------\n",
            " items | [Limes, Large Lemon, Banana]                                         \n",
            " freq  | 452                                                                  \n",
            "-RECORD 8---------------------------------------------------------------------\n",
            " items | [Organic Cucumber, Organic Strawberries, Bag of Organic Bananas]     \n",
            " freq  | 424                                                                  \n",
            "-RECORD 9---------------------------------------------------------------------\n",
            " items | [Limes, Organic Avocado, Large Lemon]                                \n",
            " freq  | 389                                                                  \n",
            "-RECORD 10--------------------------------------------------------------------\n",
            " items | [Organic Raspberries, Organic Hass Avocado, Organic Strawberries]    \n",
            " freq  | 381                                                                  \n",
            "-RECORD 11--------------------------------------------------------------------\n",
            " items | [Organic Avocado, Organic Strawberries, Banana]                      \n",
            " freq  | 379                                                                  \n",
            "-RECORD 12--------------------------------------------------------------------\n",
            " items | [Organic Baby Spinach, Organic Strawberries, Banana]                 \n",
            " freq  | 376                                                                  \n",
            "-RECORD 13--------------------------------------------------------------------\n",
            " items | [Organic Blueberries, Organic Strawberries, Bag of Organic Bananas]  \n",
            " freq  | 374                                                                  \n",
            "-RECORD 14--------------------------------------------------------------------\n",
            " items | [Large Lemon, Organic Baby Spinach, Banana]                          \n",
            " freq  | 371                                                                  \n",
            "-RECORD 15--------------------------------------------------------------------\n",
            " items | [Organic Cucumber, Organic Hass Avocado, Bag of Organic Bananas]     \n",
            " freq  | 366                                                                  \n",
            "-RECORD 16--------------------------------------------------------------------\n",
            " items | [Organic Lemon, Organic Hass Avocado, Bag of Organic Bananas]        \n",
            " freq  | 353                                                                  \n",
            "-RECORD 17--------------------------------------------------------------------\n",
            " items | [Limes, Organic Avocado, Banana]                                     \n",
            " freq  | 352                                                                  \n",
            "-RECORD 18--------------------------------------------------------------------\n",
            " items | [Organic Whole Milk, Organic Strawberries, Bag of Organic Bananas]   \n",
            " freq  | 339                                                                  \n",
            "-RECORD 19--------------------------------------------------------------------\n",
            " items | [Organic Avocado, Large Lemon, Organic Baby Spinach]                 \n",
            " freq  | 334                                                                  \n",
            "\n"
          ]
        }
      ]
    },
    {
      "cell_type": "markdown",
      "source": [
        "### Review Association Rules"
      ],
      "metadata": {
        "id": "Ao-HHGwZBN6e"
      }
    },
    {
      "cell_type": "markdown",
      "source": [
        "In addition to freqItemSets, the FP-growth model also generates associationRules. For example, if a shopper purchases peanut butter, what is the probability (or confidence) that they will also purchase jelly.  For more information, a good reference is [Susan Li's A Gentle Introduction on Market Basket Analysis — Association Rules](https://towardsdatascience.com/a-gentle-introduction-on-market-basket-analysis-association-rules-fa4b986a40ce)."
      ],
      "metadata": {
        "id": "yJFRO3D4BTF9"
      }
    },
    {
      "cell_type": "code",
      "source": [
        "# Assuming 'model' is your already trained FPGrowthModel\n",
        "\n",
        "# Generate association rules\n",
        "if_then = model.associationRules\n",
        "\n",
        "# Create or replace temporary view\n",
        "if_then.createOrReplaceTempView(\"ifThen\")\n",
        "\n",
        "# Now you can use this view to query with Spark SQL"
      ],
      "metadata": {
        "id": "IYspEjst9esx"
      },
      "execution_count": null,
      "outputs": []
    },
    {
      "cell_type": "markdown",
      "source": [
        "A good way to think about association rules is that model determines that **if** you purchased something (i.e. the antecedent), **then** you will purchase this other thing (i.e. the consequent) with the following **confidence**."
      ],
      "metadata": {
        "id": "Sba-XXJmCMns"
      }
    },
    {
      "cell_type": "code",
      "source": [
        "query = \"\"\"\n",
        "select antecedent as `antecedent (if)`, consequent as `consequent (then)`, confidence, lift, support from ifThen order by confidence desc\n",
        "\"\"\"\n",
        "\n",
        "result = spark.sql(query)\n",
        "result.show(truncate=False, vertical=True)"
      ],
      "metadata": {
        "colab": {
          "base_uri": "https://localhost:8080/"
        },
        "id": "5K_6V2tgCDej",
        "outputId": "8c4e7658-1525-4098-e116-53c4d43c3dcd"
      },
      "execution_count": null,
      "outputs": [
        {
          "output_type": "stream",
          "name": "stdout",
          "text": [
            "-RECORD 0-------------------------------------------------------------------------------\n",
            " antecedent (if)   | [Organic Raspberries, Organic Hass Avocado, Organic Strawberries]  \n",
            " consequent (then) | [Bag of Organic Bananas]                                           \n",
            " confidence        | 0.5984251968503937                                                 \n",
            " lift              | 5.072272070642333                                                  \n",
            " support           | 0.0017376856770495927                                              \n",
            "-RECORD 1-------------------------------------------------------------------------------\n",
            " antecedent (if)   | [Organic Cucumber, Organic Hass Avocado, Organic Strawberries]     \n",
            " consequent (then) | [Bag of Organic Bananas]                                           \n",
            " confidence        | 0.546875                                                           \n",
            " lift              | 4.635330870478036                                                  \n",
            " support           | 0.0010669999771357147                                              \n",
            "-RECORD 2-------------------------------------------------------------------------------\n",
            " antecedent (if)   | [Organic Kiwi, Organic Hass Avocado]                               \n",
            " consequent (then) | [Bag of Organic Bananas]                                           \n",
            " confidence        | 0.5459770114942529                                                 \n",
            " lift              | 4.627719489738336                                                  \n",
            " support           | 0.001448071397541327                                               \n",
            "-RECORD 3-------------------------------------------------------------------------------\n",
            " antecedent (if)   | [Organic Navel Orange, Organic Raspberries]                        \n",
            " consequent (then) | [Bag of Organic Bananas]                                           \n",
            " confidence        | 0.5412186379928315                                                 \n",
            " lift              | 4.587387356098284                                                  \n",
            " support           | 0.0011508356896249496                                              \n",
            "-RECORD 4-------------------------------------------------------------------------------\n",
            " antecedent (if)   | [Yellow Onions, Strawberries]                                      \n",
            " consequent (then) | [Banana]                                                           \n",
            " confidence        | 0.5357142857142857                                                 \n",
            " lift              | 3.7536332219526702                                                 \n",
            " support           | 0.0011432142612168373                                              \n",
            "-RECORD 5-------------------------------------------------------------------------------\n",
            " antecedent (if)   | [Organic Whole String Cheese, Organic Hass Avocado]                \n",
            " consequent (then) | [Bag of Organic Bananas]                                           \n",
            " confidence        | 0.5314685314685315                                                 \n",
            " lift              | 4.504745125675359                                                  \n",
            " support           | 0.0011584571180330617                                              \n",
            "-RECORD 6-------------------------------------------------------------------------------\n",
            " antecedent (if)   | [Organic Navel Orange, Organic Hass Avocado]                       \n",
            " consequent (then) | [Bag of Organic Bananas]                                           \n",
            " confidence        | 0.5283018867924528                                                 \n",
            " lift              | 4.477904539027839                                                  \n",
            " support           | 0.0014937999679900007                                              \n",
            "-RECORD 7-------------------------------------------------------------------------------\n",
            " antecedent (if)   | [Organic Raspberries, Organic Hass Avocado]                        \n",
            " consequent (then) | [Bag of Organic Bananas]                                           \n",
            " confidence        | 0.521099116781158                                                  \n",
            " lift              | 4.416853618458589                                                  \n",
            " support           | 0.004046978484707604                                               \n",
            "-RECORD 8-------------------------------------------------------------------------------\n",
            " antecedent (if)   | [Organic D'Anjou Pears, Organic Hass Avocado]                      \n",
            " consequent (then) | [Bag of Organic Bananas]                                           \n",
            " confidence        | 0.5170454545454546                                                 \n",
            " lift              | 4.3824946411792345                                                 \n",
            " support           | 0.0013870999702764292                                              \n",
            "-RECORD 9-------------------------------------------------------------------------------\n",
            " antecedent (if)   | [Organic Unsweetened Almond Milk, Organic Hass Avocado]            \n",
            " consequent (then) | [Bag of Organic Bananas]                                           \n",
            " confidence        | 0.5141065830721003                                                 \n",
            " lift              | 4.357584667849303                                                  \n",
            " support           | 0.0012499142589304088                                              \n",
            "-RECORD 10------------------------------------------------------------------------------\n",
            " antecedent (if)   | [Organic Broccoli, Organic Hass Avocado]                           \n",
            " consequent (then) | [Bag of Organic Bananas]                                           \n",
            " confidence        | 0.5048231511254019                                                 \n",
            " lift              | 4.278897986822536                                                  \n",
            " support           | 0.001196564260073623                                               \n",
            "-RECORD 11------------------------------------------------------------------------------\n",
            " antecedent (if)   | [Organic Lemon, Organic Raspberries]                               \n",
            " consequent (then) | [Bag of Organic Bananas]                                           \n",
            " confidence        | 0.4989106753812636                                                 \n",
            " lift              | 4.228783643804924                                                  \n",
            " support           | 0.0017453071054577048                                              \n",
            "-RECORD 12------------------------------------------------------------------------------\n",
            " antecedent (if)   | [Organic Hass Avocado, Organic Baby Spinach, Organic Strawberries] \n",
            " consequent (then) | [Bag of Organic Bananas]                                           \n",
            " confidence        | 0.49393939393939396                                                \n",
            " lift              | 4.1866468953096865                                                 \n",
            " support           | 0.0012422928305222964                                              \n",
            "-RECORD 13------------------------------------------------------------------------------\n",
            " antecedent (if)   | [Organic Fuji Apple, Strawberries]                                 \n",
            " consequent (then) | [Banana]                                                           \n",
            " confidence        | 0.4915254237288136                                                 \n",
            " lift              | 3.4440114985599646                                                 \n",
            " support           | 0.001105107119176276                                               \n",
            "-RECORD 14------------------------------------------------------------------------------\n",
            " antecedent (if)   | [Honeycrisp Apple, Strawberries]                                   \n",
            " consequent (then) | [Banana]                                                           \n",
            " confidence        | 0.4868421052631579                                                 \n",
            " lift              | 3.4111965069675145                                                 \n",
            " support           | 0.001409964255500766                                               \n",
            "-RECORD 15------------------------------------------------------------------------------\n",
            " antecedent (if)   | [Organic Large Extra Fancy Fuji Apple, Organic Hass Avocado]       \n",
            " consequent (then) | [Bag of Organic Bananas]                                           \n",
            " confidence        | 0.4838709677419355                                                 \n",
            " lift              | 4.101306576644161                                                  \n",
            " support           | 0.0018291428179469395                                              \n",
            "-RECORD 16------------------------------------------------------------------------------\n",
            " antecedent (if)   | [Organic Gala Apples, Organic Hass Avocado]                        \n",
            " consequent (then) | [Bag of Organic Bananas]                                           \n",
            " confidence        | 0.4837905236907731                                                 \n",
            " lift              | 4.100624730164253                                                  \n",
            " support           | 0.0014785571111737763                                              \n",
            "-RECORD 17------------------------------------------------------------------------------\n",
            " antecedent (if)   | [Organic Navel Orange, Organic Strawberries]                       \n",
            " consequent (then) | [Bag of Organic Bananas]                                           \n",
            " confidence        | 0.4821002386634845                                                 \n",
            " lift              | 4.086297817493356                                                  \n",
            " support           | 0.0015395285384386741                                              \n",
            "-RECORD 18------------------------------------------------------------------------------\n",
            " antecedent (if)   | [Organic Kiwi, Organic Raspberries]                                \n",
            " consequent (then) | [Bag of Organic Bananas]                                           \n",
            " confidence        | 0.4792332268370607                                                 \n",
            " lift              | 4.061996928944697                                                  \n",
            " support           | 0.0011432142612168373                                              \n",
            "-RECORD 19------------------------------------------------------------------------------\n",
            " antecedent (if)   | [Organic Carrot Bunch, Organic Hass Avocado]                       \n",
            " consequent (then) | [Bag of Organic Bananas]                                           \n",
            " confidence        | 0.47315436241610737                                                \n",
            " lift              | 4.010472269913116                                                  \n",
            " support           | 0.001074621405543827                                               \n",
            "only showing top 20 rows\n",
            "\n"
          ]
        }
      ]
    },
    {
      "cell_type": "markdown",
      "source": [
        "As can be seen in the preceding graph, there is relatively strong confidence that if a shopper has organic raspberries, organic avocados, and organic strawberries in their basket, then it may make sense to recommend organic bananas as well. Interestingly, the top 10 (based on descending confidence) association rules - i.e. purchase recommendations - are associated with organic bananas or bananas."
      ],
      "metadata": {
        "id": "S3uzGZD4C1lR"
      }
    },
    {
      "cell_type": "code",
      "source": [
        "from pyspark.sql import Row\n",
        "from pyspark.sql.functions import col"
      ],
      "metadata": {
        "id": "l3CLeOWvC45G"
      },
      "execution_count": null,
      "outputs": []
    },
    {
      "cell_type": "code",
      "source": [
        "# # Example new data\n",
        "# new_data = [\n",
        "#     Row(items=[\"Deli Fresh Smoked Ham\", \"Plain Fat Free Yogurt\", \"Light Bulbs, Soft White, 40W\"]),\n",
        "#     Row(items=[\"Mango Peach Jam\", \"Issimo Mochaccino Iced Coffee Drink with Domori cocoa and lowfat milk\", \"ProActive Health Large Breed Adult Dog Food\"])\n",
        "# ]\n",
        "# new_df = spark.createDataFrame(new_data)\n",
        "\n",
        "# # Transform new data to get predictions\n",
        "# predictions = model.transform(new_df)"
      ],
      "metadata": {
        "id": "-Fu5i-CvLHYj"
      },
      "execution_count": null,
      "outputs": []
    },
    {
      "cell_type": "code",
      "source": [
        "# Example new data\n",
        "new_data = [\n",
        "    Row(items=[\"Organic Hass Avocado\", \"Organic Carrot Bunch\", \"Organic Strawberries\"]), # Basket 1\n",
        "    Row(items=[\"Organic Fuji Apple\", \"Organic Hass Avocado\", \"Organic D'Anjou Pears\", \"Organic Large Brown Grade AA Cage Free Eggs\"])   # Basket 2\n",
        "]\n",
        "new_df = spark.createDataFrame(new_data)\n",
        "\n",
        "# Transform new data to get predictions\n",
        "predictions = model.transform(new_df)"
      ],
      "metadata": {
        "id": "WP1IimwGeDs-"
      },
      "execution_count": null,
      "outputs": []
    },
    {
      "cell_type": "code",
      "source": [
        "# Show the results\n",
        "# predictions.show(5, truncate=False)"
      ],
      "metadata": {
        "id": "Eld7EvZwLZjl"
      },
      "execution_count": null,
      "outputs": []
    },
    {
      "cell_type": "code",
      "source": [
        "# # Exploding the predictions\n",
        "# exploded_predictions = predictions.withColumn(\"predictedItem\", explode(col(\"prediction\")))"
      ],
      "metadata": {
        "id": "mdwYtwUXnkhG"
      },
      "execution_count": null,
      "outputs": []
    },
    {
      "cell_type": "code",
      "source": [
        "# # First, check the schema of the predictions DataFrame\n",
        "# predictions.printSchema()"
      ],
      "metadata": {
        "id": "hBJ5q0043xm3"
      },
      "execution_count": null,
      "outputs": []
    },
    {
      "cell_type": "markdown",
      "source": [
        "## **Predictions**"
      ],
      "metadata": {
        "id": "4IsgJJdNs0ZU"
      }
    },
    {
      "cell_type": "code",
      "source": [
        "from pyspark.sql.functions import col, slice\n",
        "\n",
        "# Assuming 'predictions' is your DataFrame containing the predictions\n",
        "# where each row has an array column named 'prediction'\n",
        "# Take only the top 25 elements from the 'prediction' array for each row\n",
        "top_25_predictions = predictions.withColumn(\"top_25_predictions\", slice(col(\"prediction\"), 1, 25))\n",
        "\n",
        "# Display the DataFrame with the top 25 predictions\n",
        "top_25_predictions.select(\"items\", \"top_25_predictions\").show(truncate=False)"
      ],
      "metadata": {
        "colab": {
          "base_uri": "https://localhost:8080/"
        },
        "id": "tNVRDxSm772M",
        "outputId": "736607e3-a662-4b2a-c577-aadede014698"
      },
      "execution_count": null,
      "outputs": [
        {
          "output_type": "stream",
          "name": "stdout",
          "text": [
            "+--------------------------------------------------------------------------------------------------------------+----------------------------------------------------------------------------------------------------------------------------------------------------------------------------------------------------------------------------------------------------------------------------------------------------------------------------------------------------------------------------------------------------------------------------------------------------------------------------------------------------------------------------------------------------------------------------------+\n",
            "|items                                                                                                         |top_25_predictions                                                                                                                                                                                                                                                                                                                                                                                                                                                                                                                                                                |\n",
            "+--------------------------------------------------------------------------------------------------------------+----------------------------------------------------------------------------------------------------------------------------------------------------------------------------------------------------------------------------------------------------------------------------------------------------------------------------------------------------------------------------------------------------------------------------------------------------------------------------------------------------------------------------------------------------------------------------------+\n",
            "|[Organic Hass Avocado, Organic Carrot Bunch, Organic Strawberries]                                            |[Organic Large Green Asparagus, Organic Baby Rainbow Carrots, Organic Basil, Organic Large Brown Grade AA Cage Free Eggs, 100% Raw Coconut Water, Green Beans, Red Raspberries, Organic Banana, Organic Large Extra Fancy Fuji Apple, Jalapeno Peppers, Organic Whole String Cheese, Blackberries, Limes, Organic Peeled Whole Baby Carrots, Raspberries, Hass Avocado, Bartlett Pears, Organic Broccoli Florets, Uncured Genoa Salami, Spring Water, Michigan Organic Kale, Yellow Onions, Baked Aged White Cheddar Rice and Corn Puffs, Bag of Organic Bananas, Banana]         |\n",
            "|[Organic Fuji Apple, Organic Hass Avocado, Organic D'Anjou Pears, Organic Large Brown Grade AA Cage Free Eggs]|[Organic Large Green Asparagus, Organic Basil, 100% Raw Coconut Water, Red Raspberries, Organic Banana, Organic Large Extra Fancy Fuji Apple, Jalapeno Peppers, Organic Whole String Cheese, Limes, Organic Peeled Whole Baby Carrots, Raspberries, Organic Broccoli Florets, Uncured Genoa Salami, Spring Water, Michigan Organic Kale, Yellow Onions, Organic Yellow Onion, Organic Red Radish, Bunch, Cucumber Kirby, Lime Sparkling Water, Unsweetened Almondmilk, Organic Garnet Sweet Potato (Yam), Honeycrisp Apple, Organic Lacinato (Dinosaur) Kale, Seedless Red Grapes]|\n",
            "+--------------------------------------------------------------------------------------------------------------+----------------------------------------------------------------------------------------------------------------------------------------------------------------------------------------------------------------------------------------------------------------------------------------------------------------------------------------------------------------------------------------------------------------------------------------------------------------------------------------------------------------------------------------------------------------------------------+\n",
            "\n"
          ]
        }
      ]
    },
    {
      "cell_type": "code",
      "source": [
        "from pyspark.sql.functions import col, explode, array_contains, avg, slice\n",
        "\n",
        "# Explode the top 25 predictions to get individual items\n",
        "exploded_top_25 = top_25_predictions.withColumn(\"predictedItem\", explode(col(\"top_25_predictions\")))"
      ],
      "metadata": {
        "id": "-hcTG5y8iV-H"
      },
      "execution_count": null,
      "outputs": []
    },
    {
      "cell_type": "code",
      "source": [
        "# Get the association rules\n",
        "association_rules = model.associationRules"
      ],
      "metadata": {
        "id": "bIxpZiA1jS-B"
      },
      "execution_count": null,
      "outputs": []
    },
    {
      "cell_type": "code",
      "source": [
        "association_rules.show(truncate=False)"
      ],
      "metadata": {
        "colab": {
          "base_uri": "https://localhost:8080/"
        },
        "id": "nL71IY3AjVu5",
        "outputId": "245bc776-539a-4141-c0ae-86577e924c7c"
      },
      "execution_count": null,
      "outputs": [
        {
          "output_type": "stream",
          "name": "stdout",
          "text": [
            "+----------------------------+-------------------------+-------------------+------------------+---------------------+\n",
            "|antecedent                  |consequent               |confidence         |lift              |support              |\n",
            "+----------------------------+-------------------------+-------------------+------------------+---------------------+\n",
            "|[Yellow Onions, Large Lemon]|[Limes]                  |0.23962516733601072|5.2114998476695895|0.0013642356850520924|\n",
            "|[Yellow Onions, Large Lemon]|[Organic Avocado]        |0.2101740294511379 |3.7220575287156636|0.001196564260073623 |\n",
            "|[Yellow Onions, Large Lemon]|[Organic Baby Spinach]   |0.19812583668005354|2.656980059786707 |0.0011279714044006128|\n",
            "|[Yellow Onions, Large Lemon]|[Banana]                 |0.34404283801874164|2.410633169582456 |0.001958707100884848 |\n",
            "|[Yellow Onions, Banana]     |[Limes]                  |0.14285714285714285|3.106935663375246 |0.001166078546441174 |\n",
            "|[Yellow Onions, Banana]     |[Organic Avocado]        |0.17740429505135388|3.1417249493039674|0.001448071397541327 |\n",
            "|[Yellow Onions, Banana]     |[Organic Zucchini]       |0.12605042016806722|3.604042183445616 |0.0010288928350951536|\n",
            "|[Yellow Onions, Banana]     |[Large Lemon]            |0.23996265172735762|3.8703453682230933|0.001958707100884848 |\n",
            "|[Yellow Onions, Banana]     |[Strawberries]           |0.1400560224089636 |2.8297829757095325|0.0011432142612168373|\n",
            "|[Yellow Onions, Banana]     |[Organic Baby Spinach]   |0.17553688141923435|2.3540493330065737|0.0014328285407251026|\n",
            "|[Trilogy Kombucha Drink]    |[Bag of Organic Bananas] |0.21739130434782608|1.8426159982024493|0.0010669999771357147|\n",
            "|[Green Bell Pepper]         |[Jalapeno Peppers]       |0.06584688615628718|4.549607206782667 |0.0012651571157466332|\n",
            "|[Green Bell Pepper]         |[Orange Bell Pepper]     |0.10035700119000397|7.0642391465339225|0.001928221387252399 |\n",
            "|[Green Bell Pepper]         |[Organic Red Bell Pepper]|0.10234034113447045|5.611355545304109 |0.00196632852929296  |\n",
            "|[Green Bell Pepper]         |[Organic Cilantro]       |0.09401031336771122|3.498298130080551 |0.001806278532722603 |\n",
            "|[Green Bell Pepper]         |[Organic Tomato Cluster] |0.05593018643395478|2.891467230816695 |0.001074621405543827 |\n",
            "|[Green Bell Pepper]         |[Asparagus]              |0.07973026576755256|2.7045833611930723|0.001531907110030562 |\n",
            "|[Green Bell Pepper]         |[Limes]                  |0.13685045616818722|2.9762989397267825|0.002629392800798726 |\n",
            "|[Green Bell Pepper]         |[Michigan Organic Kale]  |0.05751685838952796|2.872755794606614 |0.001105107119176276 |\n",
            "|[Green Bell Pepper]         |[Broccoli Crown]         |0.06307021023403411|2.822434929944537 |0.0012118071168898475|\n",
            "+----------------------------+-------------------------+-------------------+------------------+---------------------+\n",
            "only showing top 20 rows\n",
            "\n"
          ]
        }
      ]
    },
    {
      "cell_type": "code",
      "source": [],
      "metadata": {
        "id": "5xcoLihpQ_3P"
      },
      "execution_count": null,
      "outputs": []
    },
    {
      "cell_type": "code",
      "source": [
        "# Join the exploded top 25 predictions with the association rules\n",
        "# We're interested in rules where the input basket is the antecedent\n",
        "# and the predicted items are in the consequent\n",
        "joined_data = exploded_top_25.join(association_rules,\n",
        "                                   array_contains(association_rules.consequent, col(\"predictedItem\")))"
      ],
      "metadata": {
        "id": "FFP1pDshjf-E"
      },
      "execution_count": null,
      "outputs": []
    },
    {
      "cell_type": "code",
      "source": [
        "# Selecting and displaying the relevant data\n",
        "# Adjusting the select statement to show the original items and the predictions with their metrics\n",
        "joined_data.select(\"items\", \"predictedItem\", \"confidence\", \"lift\", \"support\").show(truncate=False)"
      ],
      "metadata": {
        "colab": {
          "base_uri": "https://localhost:8080/"
        },
        "id": "F0NPWVS8nkwQ",
        "outputId": "fab2718d-c7f6-4911-f6fc-db3031e588df"
      },
      "execution_count": null,
      "outputs": [
        {
          "output_type": "stream",
          "name": "stdout",
          "text": [
            "+------------------------------------------------------------------+-------------------------------------------+--------------------+------------------+---------------------+\n",
            "|items                                                             |predictedItem                              |confidence          |lift              |support              |\n",
            "+------------------------------------------------------------------+-------------------------------------------+--------------------+------------------+---------------------+\n",
            "|[Organic Hass Avocado, Organic Carrot Bunch, Organic Strawberries]|Organic Large Green Asparagus              |0.016981824857719846|3.052285284598032 |0.001409964255500766 |\n",
            "|[Organic Hass Avocado, Organic Carrot Bunch, Organic Strawberries]|Organic Large Green Asparagus              |0.022487316604963663|4.041833321124216 |0.0012499142589304088|\n",
            "|[Organic Hass Avocado, Organic Carrot Bunch, Organic Strawberries]|Organic Baby Rainbow Carrots               |0.013401872590416744|1.9239018607395957|0.0011127285475843883|\n",
            "|[Organic Hass Avocado, Organic Carrot Bunch, Organic Strawberries]|Organic Basil                              |0.04329004329004329 |4.648153265174541 |0.0013718571134602048|\n",
            "|[Organic Hass Avocado, Organic Carrot Bunch, Organic Strawberries]|Organic Basil                              |0.015329539195887644|1.6459685011073828|0.0012727785441547456|\n",
            "|[Organic Hass Avocado, Organic Carrot Bunch, Organic Strawberries]|Organic Basil                              |0.021801727684080625|2.3409025267598484|0.0012118071168898475|\n",
            "|[Organic Hass Avocado, Organic Carrot Bunch, Organic Strawberries]|Organic Basil                              |0.03263403263403263 |3.5039924614392697|0.0010669999771357147|\n",
            "|[Organic Hass Avocado, Organic Carrot Bunch, Organic Strawberries]|Organic Basil                              |0.02446220036877689 |2.6265637055538846|0.0015166642532143373|\n",
            "|[Organic Hass Avocado, Organic Carrot Bunch, Organic Strawberries]|Organic Large Brown Grade AA Cage Free Eggs|0.018450523223792915|2.129177398127216 |0.001531907110030562 |\n",
            "|[Organic Hass Avocado, Organic Carrot Bunch, Organic Strawberries]|Organic Large Brown Grade AA Cage Free Eggs|0.024269847799259565|2.8007233596244925|0.001348992828235868 |\n",
            "|[Organic Hass Avocado, Organic Carrot Bunch, Organic Strawberries]|Organic Large Brown Grade AA Cage Free Eggs|0.024882798413270825|2.871457429205674 |0.0010517571203194902|\n",
            "|[Organic Hass Avocado, Organic Carrot Bunch, Organic Strawberries]|100% Raw Coconut Water                     |0.01991922158986598 |2.013544796290235 |0.001653849964560358 |\n",
            "|[Organic Hass Avocado, Organic Carrot Bunch, Organic Strawberries]|100% Raw Coconut Water                     |0.030440148087206912|3.0770580819524898|0.001691957106600919 |\n",
            "|[Organic Hass Avocado, Organic Carrot Bunch, Organic Strawberries]|100% Raw Coconut Water                     |0.030652722683014784|3.098546294696215 |0.0012956428293790822|\n",
            "|[Organic Hass Avocado, Organic Carrot Bunch, Organic Strawberries]|Green Beans                                |0.01349366623829631 |1.5262848736729486|0.0011203499759925004|\n",
            "|[Organic Hass Avocado, Organic Carrot Bunch, Organic Strawberries]|Green Beans                                |0.025509515454177352|2.8854120803682384|0.001440449969133215 |\n",
            "|[Organic Hass Avocado, Organic Carrot Bunch, Organic Strawberries]|Green Beans                                |0.029010448678549478|3.2814068626412056|0.0017986571043144906|\n",
            "|[Organic Hass Avocado, Organic Carrot Bunch, Organic Strawberries]|Red Raspberries                            |0.024784284927483018|2.1781120167783783|0.0020577856701903072|\n",
            "|[Organic Hass Avocado, Organic Carrot Bunch, Organic Strawberries]|Red Raspberries                            |0.01851090086384204 |1.626789545508272 |0.0010288928350951536|\n",
            "|[Organic Hass Avocado, Organic Carrot Bunch, Organic Strawberries]|Red Raspberries                            |0.04930712213986465 |4.333247279872404 |0.001166078546441174 |\n",
            "+------------------------------------------------------------------+-------------------------------------------+--------------------+------------------+---------------------+\n",
            "only showing top 20 rows\n",
            "\n"
          ]
        }
      ]
    },
    {
      "cell_type": "code",
      "source": [
        "from pyspark.sql.functions import avg\n",
        "\n",
        "# Grouping by 'predictedItem' and calculating the average of 'confidence', 'lift', and 'support'\n",
        "avg_metrics = joined_data.groupBy(\"predictedItem\").agg(\n",
        "    avg(\"confidence\").alias(\"avg_confidence\"),\n",
        "    avg(\"lift\").alias(\"avg_lift\"),\n",
        "    avg(\"support\").alias(\"avg_support\")\n",
        ")\n",
        "\n",
        "# Display the results\n",
        "avg_metrics.show(truncate=False)\n"
      ],
      "metadata": {
        "colab": {
          "base_uri": "https://localhost:8080/"
        },
        "id": "mW-0iyv2avhG",
        "outputId": "77bd38c3-5912-4823-c155-25d52d6053f7"
      },
      "execution_count": null,
      "outputs": [
        {
          "output_type": "stream",
          "name": "stdout",
          "text": [
            "+-------------------------------------------+--------------------+------------------+---------------------+\n",
            "|predictedItem                              |avg_confidence      |avg_lift          |avg_support          |\n",
            "+-------------------------------------------+--------------------+------------------+---------------------+\n",
            "|100% Raw Coconut Water                     |0.021933097039909505|2.2171184356775697|0.001666552345240545 |\n",
            "|Blackberries                               |0.03368768618121582 |4.104111064207195 |0.0015560416333229175|\n",
            "|Spring Water                               |0.020698457245820083|1.220595000794071 |0.0018794442454404803|\n",
            "|Banana                                     |0.25429136395255136 |1.7817641553375152|0.0022925216432982073|\n",
            "|Bag of Organic Bananas                     |0.2760280940398818  |2.3396233973435945|0.0022499290254479483|\n",
            "|Michigan Organic Kale                      |0.055445895348256856|2.7693187981535727|0.001756739248069873 |\n",
            "|Organic Basil                              |0.028844955378361948|3.097150368444756 |0.001335020209487662 |\n",
            "|Organic Large Brown Grade AA Cage Free Eggs|0.01854971334662348 |2.140623868511099 |0.001451882111745383 |\n",
            "|Limes                                      |0.16136401510921541 |3.509433293297704 |0.0020825311940723427|\n",
            "|Organic Peeled Whole Baby Carrots          |0.04557401931503241 |2.430781097685401 |0.0017418651700475895|\n",
            "|Jalapeno Peppers                           |0.05896996666908039 |4.0744551641302635|0.0018851603167465644|\n",
            "|Yellow Onions                              |0.08071254843531003 |2.8150485825753844|0.0019335697580651092|\n",
            "|Green Beans                                |0.019076383004272193|2.1577527048340945|0.00145242649948882  |\n",
            "|Organic Baby Rainbow Carrots               |0.012390097169692462|1.7786567391008514|0.001234671402114184 |\n",
            "|Red Raspberries                            |0.03269428127647442 |2.8732645358371944|0.0017859547236343037|\n",
            "|Organic Large Green Asparagus              |0.01758976271095432 |3.161555034988501 |0.0014252071123169905|\n",
            "|Organic Whole String Cheese                |0.04394394746235144 |2.8930463635663166|0.0018099235637003956|\n",
            "|Hass Avocado                               |0.02268209648266631 |1.822471033309347 |0.0016090740726626982|\n",
            "|Bartlett Pears                             |0.021456203972100303|2.332433361205724 |0.0014823678253778325|\n",
            "|Organic Large Extra Fancy Fuji Apple       |0.06511670847299954 |2.9553435496484948|0.0018716050619349935|\n",
            "+-------------------------------------------+--------------------+------------------+---------------------+\n",
            "only showing top 20 rows\n",
            "\n"
          ]
        }
      ]
    },
    {
      "cell_type": "code",
      "source": [
        "from pyspark.sql.functions import avg, col\n",
        "\n",
        "# Grouping by 'predictedItem' and calculating the average of 'confidence', 'lift', and 'support'\n",
        "avg_metrics = joined_data.groupBy(\"predictedItem\").agg(\n",
        "    avg(\"confidence\").alias(\"avg_confidence\"),\n",
        "    avg(\"lift\").alias(\"avg_lift\"),\n",
        "    avg(\"support\").alias(\"avg_support\")\n",
        ")\n",
        "\n",
        "# Sorting the results by 'avg_confidence' in descending order\n",
        "sorted_avg_metrics = avg_metrics.orderBy(col(\"avg_confidence\").desc())\n",
        "\n",
        "# Display the results\n",
        "sorted_avg_metrics.show(truncate=False)"
      ],
      "metadata": {
        "colab": {
          "base_uri": "https://localhost:8080/"
        },
        "id": "uQvbZVZdavlf",
        "outputId": "2b9a0e6b-daec-4c2a-ba7f-39eb568ff42d"
      },
      "execution_count": null,
      "outputs": [
        {
          "output_type": "stream",
          "name": "stdout",
          "text": [
            "+------------------------------------+--------------------+------------------+---------------------+\n",
            "|predictedItem                       |avg_confidence      |avg_lift          |avg_support          |\n",
            "+------------------------------------+--------------------+------------------+---------------------+\n",
            "|Bag of Organic Bananas              |0.2760280940398818  |2.3396233973435945|0.0022499290254479483|\n",
            "|Banana                              |0.25429136395255136 |1.7817641553375152|0.0022925216432982073|\n",
            "|Limes                               |0.16136401510921541 |3.509433293297704 |0.0020825311940723427|\n",
            "|Organic Yellow Onion                |0.10935249132964608 |3.3445293787579318|0.00196291476448516  |\n",
            "|Lime Sparkling Water                |0.10032086190394256 |6.695320432123295 |0.0017365131496021907|\n",
            "|Raspberries                         |0.08086702876341238 |3.2358895934792855|0.002278475727573035 |\n",
            "|Yellow Onions                       |0.08071254843531003 |2.8150485825753844|0.0019335697580651092|\n",
            "|Seedless Red Grapes                 |0.06578548837282237 |2.126545489999913 |0.0020220235830445497|\n",
            "|Organic Large Extra Fancy Fuji Apple|0.06511670847299954 |2.9553435496484948|0.0018716050619349935|\n",
            "|Honeycrisp Apple                    |0.0635198047151468  |2.347048734685919 |0.0019916251852858434|\n",
            "|Jalapeno Peppers                    |0.05896996666908039 |4.0744551641302635|0.0018851603167465644|\n",
            "|Organic Garnet Sweet Potato (Yam)   |0.05780444836949137 |2.9534516612587978|0.0018468106747111996|\n",
            "|Michigan Organic Kale               |0.055445895348256856|2.7693187981535727|0.001756739248069873 |\n",
            "|Cucumber Kirby                      |0.04673659605801892 |2.5413435690744324|0.0017151389513422606|\n",
            "|Organic Peeled Whole Baby Carrots   |0.04557401931503241 |2.430781097685401 |0.0017418651700475895|\n",
            "|Organic Lacinato (Dinosaur) Kale    |0.045471282252192574|3.3879849364156356|0.0016738562141316523|\n",
            "|Organic Whole String Cheese         |0.04394394746235144 |2.8930463635663166|0.0018099235637003956|\n",
            "|Organic Banana                      |0.03697506082307802 |2.0803862588058504|0.0015655310588898806|\n",
            "|Blackberries                        |0.03368768618121582 |4.104111064207195 |0.0015560416333229175|\n",
            "|Red Raspberries                     |0.03269428127647442 |2.8732645358371944|0.0017859547236343037|\n",
            "+------------------------------------+--------------------+------------------+---------------------+\n",
            "only showing top 20 rows\n",
            "\n"
          ]
        }
      ]
    },
    {
      "cell_type": "code",
      "source": [
        "from pyspark.sql.functions import avg, col, collect_set\n",
        "\n",
        "# Grouping by 'predictedItem' and calculating the average of 'confidence', 'lift', and 'support'\n",
        "# and collecting the distinct 'items' associated with each 'predictedItem'\n",
        "avg_metrics = joined_data.groupBy(\"predictedItem\").agg(\n",
        "    collect_set(\"items\").alias(\"associated_items\"),\n",
        "    avg(\"confidence\").alias(\"avg_confidence\"),\n",
        "    avg(\"lift\").alias(\"avg_lift\"),\n",
        "    avg(\"support\").alias(\"avg_support\")\n",
        ")\n",
        "\n",
        "# Sorting the results by 'avg_confidence' in descending order\n",
        "sorted_avg_metrics = avg_metrics.orderBy(col(\"avg_confidence\").desc())\n",
        "\n",
        "# Display the results\n",
        "sorted_avg_metrics.show(truncate=False)\n"
      ],
      "metadata": {
        "colab": {
          "base_uri": "https://localhost:8080/"
        },
        "id": "7NLCUl5E4ZSk",
        "outputId": "ccdc119c-fced-41c7-fe60-d83057b90e22"
      },
      "execution_count": null,
      "outputs": [
        {
          "output_type": "stream",
          "name": "stdout",
          "text": [
            "+------------------------------------+------------------------------------------------------------------------------------------------------------------------------------------------------------------------------------+--------------------+------------------+---------------------+\n",
            "|predictedItem                       |associated_items                                                                                                                                                                    |avg_confidence      |avg_lift          |avg_support          |\n",
            "+------------------------------------+------------------------------------------------------------------------------------------------------------------------------------------------------------------------------------+--------------------+------------------+---------------------+\n",
            "|Bag of Organic Bananas              |[[Organic Hass Avocado, Organic Carrot Bunch, Organic Strawberries]]                                                                                                                |0.2760280940398818  |2.3396233973435945|0.0022499290254479483|\n",
            "|Banana                              |[[Organic Hass Avocado, Organic Carrot Bunch, Organic Strawberries]]                                                                                                                |0.25429136395255136 |1.7817641553375152|0.0022925216432982073|\n",
            "|Limes                               |[[Organic Fuji Apple, Organic Hass Avocado, Organic D'Anjou Pears, Organic Large Brown Grade AA Cage Free Eggs], [Organic Hass Avocado, Organic Carrot Bunch, Organic Strawberries]]|0.16136401510921541 |3.509433293297704 |0.0020825311940723427|\n",
            "|Organic Yellow Onion                |[[Organic Fuji Apple, Organic Hass Avocado, Organic D'Anjou Pears, Organic Large Brown Grade AA Cage Free Eggs]]                                                                    |0.10935249132964608 |3.3445293787579318|0.00196291476448516  |\n",
            "|Lime Sparkling Water                |[[Organic Fuji Apple, Organic Hass Avocado, Organic D'Anjou Pears, Organic Large Brown Grade AA Cage Free Eggs]]                                                                    |0.10032086190394256 |6.695320432123295 |0.0017365131496021907|\n",
            "|Raspberries                         |[[Organic Fuji Apple, Organic Hass Avocado, Organic D'Anjou Pears, Organic Large Brown Grade AA Cage Free Eggs], [Organic Hass Avocado, Organic Carrot Bunch, Organic Strawberries]]|0.08086702876341238 |3.2358895934792855|0.002278475727573035 |\n",
            "|Yellow Onions                       |[[Organic Fuji Apple, Organic Hass Avocado, Organic D'Anjou Pears, Organic Large Brown Grade AA Cage Free Eggs], [Organic Hass Avocado, Organic Carrot Bunch, Organic Strawberries]]|0.08071254843531003 |2.8150485825753844|0.0019335697580651092|\n",
            "|Seedless Red Grapes                 |[[Organic Fuji Apple, Organic Hass Avocado, Organic D'Anjou Pears, Organic Large Brown Grade AA Cage Free Eggs]]                                                                    |0.06578548837282237 |2.126545489999913 |0.0020220235830445497|\n",
            "|Organic Large Extra Fancy Fuji Apple|[[Organic Fuji Apple, Organic Hass Avocado, Organic D'Anjou Pears, Organic Large Brown Grade AA Cage Free Eggs], [Organic Hass Avocado, Organic Carrot Bunch, Organic Strawberries]]|0.06511670847299954 |2.9553435496484948|0.0018716050619349935|\n",
            "|Honeycrisp Apple                    |[[Organic Fuji Apple, Organic Hass Avocado, Organic D'Anjou Pears, Organic Large Brown Grade AA Cage Free Eggs]]                                                                    |0.0635198047151468  |2.347048734685919 |0.0019916251852858434|\n",
            "|Jalapeno Peppers                    |[[Organic Fuji Apple, Organic Hass Avocado, Organic D'Anjou Pears, Organic Large Brown Grade AA Cage Free Eggs], [Organic Hass Avocado, Organic Carrot Bunch, Organic Strawberries]]|0.05896996666908039 |4.0744551641302635|0.0018851603167465644|\n",
            "|Organic Garnet Sweet Potato (Yam)   |[[Organic Fuji Apple, Organic Hass Avocado, Organic D'Anjou Pears, Organic Large Brown Grade AA Cage Free Eggs]]                                                                    |0.05780444836949137 |2.9534516612587978|0.0018468106747111996|\n",
            "|Michigan Organic Kale               |[[Organic Fuji Apple, Organic Hass Avocado, Organic D'Anjou Pears, Organic Large Brown Grade AA Cage Free Eggs], [Organic Hass Avocado, Organic Carrot Bunch, Organic Strawberries]]|0.055445895348256856|2.7693187981535727|0.001756739248069873 |\n",
            "|Cucumber Kirby                      |[[Organic Fuji Apple, Organic Hass Avocado, Organic D'Anjou Pears, Organic Large Brown Grade AA Cage Free Eggs]]                                                                    |0.04673659605801892 |2.5413435690744324|0.0017151389513422606|\n",
            "|Organic Peeled Whole Baby Carrots   |[[Organic Fuji Apple, Organic Hass Avocado, Organic D'Anjou Pears, Organic Large Brown Grade AA Cage Free Eggs], [Organic Hass Avocado, Organic Carrot Bunch, Organic Strawberries]]|0.04557401931503241 |2.430781097685401 |0.0017418651700475895|\n",
            "|Organic Lacinato (Dinosaur) Kale    |[[Organic Fuji Apple, Organic Hass Avocado, Organic D'Anjou Pears, Organic Large Brown Grade AA Cage Free Eggs]]                                                                    |0.045471282252192574|3.3879849364156356|0.0016738562141316523|\n",
            "|Organic Whole String Cheese         |[[Organic Fuji Apple, Organic Hass Avocado, Organic D'Anjou Pears, Organic Large Brown Grade AA Cage Free Eggs], [Organic Hass Avocado, Organic Carrot Bunch, Organic Strawberries]]|0.04394394746235144 |2.8930463635663166|0.0018099235637003956|\n",
            "|Organic Banana                      |[[Organic Fuji Apple, Organic Hass Avocado, Organic D'Anjou Pears, Organic Large Brown Grade AA Cage Free Eggs], [Organic Hass Avocado, Organic Carrot Bunch, Organic Strawberries]]|0.03697506082307802 |2.0803862588058504|0.0015655310588898806|\n",
            "|Blackberries                        |[[Organic Hass Avocado, Organic Carrot Bunch, Organic Strawberries]]                                                                                                                |0.03368768618121582 |4.104111064207195 |0.0015560416333229175|\n",
            "|Red Raspberries                     |[[Organic Fuji Apple, Organic Hass Avocado, Organic D'Anjou Pears, Organic Large Brown Grade AA Cage Free Eggs], [Organic Hass Avocado, Organic Carrot Bunch, Organic Strawberries]]|0.03269428127647442 |2.8732645358371944|0.0017859547236343037|\n",
            "+------------------------------------+------------------------------------------------------------------------------------------------------------------------------------------------------------------------------------+--------------------+------------------+---------------------+\n",
            "only showing top 20 rows\n",
            "\n"
          ]
        }
      ]
    },
    {
      "cell_type": "markdown",
      "source": [
        "## Evaluation Metrics"
      ],
      "metadata": {
        "id": "jkDeZdKHRRC-"
      }
    },
    {
      "cell_type": "markdown",
      "source": [
        "### Basket 1"
      ],
      "metadata": {
        "id": "z1qkHvd8cIGK"
      }
    },
    {
      "cell_type": "code",
      "source": [
        "# Filter for the specific basket\n",
        "basket1 = [\"Organic Hass Avocado\", \"Organic Carrot Bunch\", \"Organic Strawberries\"]\n",
        "\n",
        "# Filter for the specific basket\n",
        "# Apply a filter for each item in the basket\n",
        "for item in basket1:\n",
        "    joined_data_filtered = joined_data.filter(array_contains(col(\"antecedent\"), item))\n",
        "\n",
        "# Now joined_data_filtered contains only the rows where the antecedent contains all items in basket1"
      ],
      "metadata": {
        "id": "9Rx2mZlZkPak"
      },
      "execution_count": null,
      "outputs": []
    },
    {
      "cell_type": "code",
      "source": [
        "# Now calculate the aggregated metrics for the top 25 predictions\n",
        "aggregated_confidence = joined_data_filtered.agg(avg(\"confidence\")).first()[0]\n",
        "aggregated_support = joined_data_filtered.agg(avg(\"support\")).first()[0]\n",
        "aggregated_lift = joined_data_filtered.agg(avg(\"lift\")).first()[0]"
      ],
      "metadata": {
        "id": "0DzdjFWZkgxA"
      },
      "execution_count": null,
      "outputs": []
    },
    {
      "cell_type": "code",
      "source": [
        "print(f\"Aggregated Confidence: {aggregated_confidence}\")\n",
        "print(f\"Aggregated Support: {aggregated_support}\")\n",
        "print(f\"Aggregated Lift: {aggregated_lift}\")"
      ],
      "metadata": {
        "colab": {
          "base_uri": "https://localhost:8080/"
        },
        "id": "5ARR59wxkh5w",
        "outputId": "cc02529d-fbb5-4144-8d3e-e4a5055a981b"
      },
      "execution_count": null,
      "outputs": [
        {
          "output_type": "stream",
          "name": "stdout",
          "text": [
            "Aggregated Confidence: 0.18022128725745323\n",
            "Aggregated Support: 0.002134743508262465\n",
            "Aggregated Lift: 2.6897684371467303\n"
          ]
        }
      ]
    },
    {
      "cell_type": "markdown",
      "source": [
        "### Basket 2"
      ],
      "metadata": {
        "id": "M0_o2C3PcKVO"
      }
    },
    {
      "cell_type": "code",
      "source": [
        "# Filter for the specific basket\n",
        "basket2 = [\"Organic Fuji Apple\", \"Organic Hass Avocado\", \"Organic D'Anjou Pears\"]\n",
        "\n",
        "# Filter for the specific basket\n",
        "# Apply a filter for each item in the basket\n",
        "for item in basket2:\n",
        "    joined_data_filtered = joined_data.filter(array_contains(col(\"antecedent\"), item))\n",
        "\n",
        "# Now joined_data_filtered contains only the rows where the antecedent contains all items in basket1"
      ],
      "metadata": {
        "id": "36pN2uc8qf_f"
      },
      "execution_count": null,
      "outputs": []
    },
    {
      "cell_type": "code",
      "source": [
        "# Now calculate the aggregated metrics for the top 25 predictions\n",
        "aggregated_confidence = joined_data_filtered.agg(avg(\"confidence\")).first()[0]\n",
        "aggregated_support = joined_data_filtered.agg(avg(\"support\")).first()[0]\n",
        "aggregated_lift = joined_data_filtered.agg(avg(\"lift\")).first()[0]"
      ],
      "metadata": {
        "id": "g1I6rHrkqf_g"
      },
      "execution_count": null,
      "outputs": []
    },
    {
      "cell_type": "code",
      "source": [
        "print(f\"Aggregated Confidence: {aggregated_confidence}\")\n",
        "print(f\"Aggregated Support: {aggregated_support}\")\n",
        "print(f\"Aggregated Lift: {aggregated_lift}\")"
      ],
      "metadata": {
        "colab": {
          "base_uri": "https://localhost:8080/"
        },
        "outputId": "22b4dfc9-650a-4614-959f-59b4fcfb1778",
        "id": "PxTqwcCMqf_g"
      },
      "execution_count": null,
      "outputs": [
        {
          "output_type": "stream",
          "name": "stdout",
          "text": [
            "Aggregated Confidence: 0.19060540030137185\n",
            "Aggregated Support: 0.00179588567580245\n",
            "Aggregated Lift: 3.050166362462922\n"
          ]
        }
      ]
    }
  ]
}